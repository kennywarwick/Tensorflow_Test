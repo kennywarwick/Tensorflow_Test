{
 "cells": [
  {
   "cell_type": "markdown",
   "metadata": {},
   "source": [
    "# Rank"
   ]
  },
  {
   "cell_type": "markdown",
   "metadata": {},
   "source": [
    "### 1 rank"
   ]
  },
  {
   "cell_type": "code",
   "execution_count": 12,
   "metadata": {
    "collapsed": false
   },
   "outputs": [
    {
     "name": "stdout",
     "output_type": "stream",
     "text": [
      "[  1.3    1.     4.    23.69]\n"
     ]
    }
   ],
   "source": [
    "import numpy as np\n",
    "tensor_1d = np.array([1.3,1,4.0,23.69])\n",
    "print tensor_1d"
   ]
  },
  {
   "cell_type": "code",
   "execution_count": 3,
   "metadata": {
    "collapsed": false
   },
   "outputs": [
    {
     "name": "stdout",
     "output_type": "stream",
     "text": [
      "1.3\n"
     ]
    }
   ],
   "source": [
    "print tensor_1d[0]"
   ]
  },
  {
   "cell_type": "code",
   "execution_count": 4,
   "metadata": {
    "collapsed": false
   },
   "outputs": [
    {
     "name": "stdout",
     "output_type": "stream",
     "text": [
      "4.0\n"
     ]
    }
   ],
   "source": [
    "print tensor_1d[2]"
   ]
  },
  {
   "cell_type": "code",
   "execution_count": 5,
   "metadata": {
    "collapsed": false
   },
   "outputs": [
    {
     "data": {
      "text/plain": [
       "1"
      ]
     },
     "execution_count": 5,
     "metadata": {},
     "output_type": "execute_result"
    }
   ],
   "source": [
    "## tensor rank\n",
    "tensor_1d.ndim"
   ]
  },
  {
   "cell_type": "code",
   "execution_count": 6,
   "metadata": {
    "collapsed": false
   },
   "outputs": [
    {
     "data": {
      "text/plain": [
       "(4,)"
      ]
     },
     "execution_count": 6,
     "metadata": {},
     "output_type": "execute_result"
    }
   ],
   "source": [
    "## tensor shape\n",
    "tensor_1d.shape"
   ]
  },
  {
   "cell_type": "code",
   "execution_count": 7,
   "metadata": {
    "collapsed": false
   },
   "outputs": [
    {
     "data": {
      "text/plain": [
       "dtype('float64')"
      ]
     },
     "execution_count": 7,
     "metadata": {},
     "output_type": "execute_result"
    }
   ],
   "source": [
    "tensor_1d.dtype"
   ]
  },
  {
   "cell_type": "code",
   "execution_count": 11,
   "metadata": {
    "collapsed": false
   },
   "outputs": [
    {
     "name": "stdout",
     "output_type": "stream",
     "text": [
      "[  1.3    1.     4.    23.69]\n",
      "1.3\n",
      "4.0\n"
     ]
    }
   ],
   "source": [
    "## Transfor the Numpy into Tensorflow tensor\n",
    "import tensorflow as tf\n",
    "\n",
    "tf_tensor = tf.convert_to_tensor(tensor_1d,dtype = tf.float64)\n",
    "\n",
    "with tf.Session() as sess:\n",
    "    print sess.run(tf_tensor)\n",
    "    print sess.run(tf_tensor[0])\n",
    "    print sess.run(tf_tensor[2])\n",
    "    "
   ]
  },
  {
   "cell_type": "markdown",
   "metadata": {},
   "source": [
    "### 2 rank"
   ]
  },
  {
   "cell_type": "code",
   "execution_count": 13,
   "metadata": {
    "collapsed": false
   },
   "outputs": [
    {
     "name": "stdout",
     "output_type": "stream",
     "text": [
      "[[ 1  1  4 23]\n",
      " [ 2  3  4  5]\n",
      " [ 5  6  7  8]\n",
      " [10 11 12 13]]\n"
     ]
    }
   ],
   "source": [
    "import numpy as np\n",
    "tensor_2d = np.array([(1,1,4,23),(2,3,4,5),(5,6,7,8),(10,11,12,13)])\n",
    "print tensor_2d"
   ]
  },
  {
   "cell_type": "code",
   "execution_count": 18,
   "metadata": {
    "collapsed": false
   },
   "outputs": [
    {
     "data": {
      "text/plain": [
       "6"
      ]
     },
     "execution_count": 18,
     "metadata": {},
     "output_type": "execute_result"
    }
   ],
   "source": [
    "tensor_2d[2][1]"
   ]
  },
  {
   "cell_type": "code",
   "execution_count": 20,
   "metadata": {
    "collapsed": false
   },
   "outputs": [
    {
     "data": {
      "text/plain": [
       "array([[1, 1],\n",
       "       [2, 3]])"
      ]
     },
     "execution_count": 20,
     "metadata": {},
     "output_type": "execute_result"
    }
   ],
   "source": [
    "tensor_2d[0:2,0:2]"
   ]
  },
  {
   "cell_type": "code",
   "execution_count": 32,
   "metadata": {
    "collapsed": false
   },
   "outputs": [
    {
     "name": "stdout",
     "output_type": "stream",
     "text": [
      "matrix1 =\n",
      "[[2 2 2]\n",
      " [2 2 2]\n",
      " [2 2 2]]\n",
      "matrix2 =\n",
      "[[1 1 1]\n",
      " [1 1 1]\n",
      " [1 1 1]]\n",
      "matrix3 =\n",
      "[[ 2.  7.  2.]\n",
      " [ 1.  4.  2.]\n",
      " [ 9.  0.  2.]]\n",
      "matrix1*matrix2 =\n",
      "[[6 6 6]\n",
      " [6 6 6]\n",
      " [6 6 6]]\n",
      "matrix1+matrix2 =\n",
      "[[3 3 3]\n",
      " [3 3 3]\n",
      " [3 3 3]]\n",
      "matrix3 determinant result =\n",
      "56.0\n"
     ]
    }
   ],
   "source": [
    "matrix1 = np.array([(2,2,2),(2,2,2),(2,2,2)],dtype=\"int32\")\n",
    "matrix2 = np.array([(1,1,1),(1,1,1),(1,1,1)],dtype=\"int32\")\n",
    "\n",
    "print \"matrix1 =\"\n",
    "print matrix1\n",
    "\n",
    "print \"matrix2 =\"\n",
    "print matrix2\n",
    "\n",
    "matrix1 = tf.constant(matrix1)\n",
    "matrix2 = tf.constant(matrix2)\n",
    "\n",
    "matrix_product = tf.matmul(matrix1,matrix2)\n",
    "matrix_sum = tf.add(matrix1,matrix2)\n",
    "matrix_3 = np.array([(2,7,2),(1,4,2),(9,0,2)],dtype=\"float32\")\n",
    "print \"matrix3 =\"\n",
    "print matrix_3\n",
    "\n",
    "matrix_det = tf.matrix_determinant(matrix_3)\n",
    "\n",
    "with tf.Session() as sess:\n",
    "    result1 = sess.run(matrix_product)\n",
    "    result2 = sess.run(matrix_sum)\n",
    "    result3 = sess.run(matrix_det)\n",
    "    \n",
    "print \"matrix1*matrix2 =\"\n",
    "print result1\n",
    "\n",
    "print \"matrix1+matrix2 =\"\n",
    "print result2\n",
    "\n",
    "print \"matrix3 determinant result =\"\n",
    "print result3"
   ]
  },
  {
   "cell_type": "markdown",
   "metadata": {},
   "source": [
    "### 3rank"
   ]
  },
  {
   "cell_type": "code",
   "execution_count": 40,
   "metadata": {
    "collapsed": false
   },
   "outputs": [
    {
     "name": "stdout",
     "output_type": "stream",
     "text": [
      "[[[1 2]\n",
      "  [3 4]]\n",
      "\n",
      " [[5 6]\n",
      "  [7 8]]]\n",
      "1\n",
      "2\n",
      "3\n",
      "4\n"
     ]
    }
   ],
   "source": [
    "tensor_3d = np.array([[[1,2],[3,4]],[[5,6],[7,8]]])\n",
    "print tensor_3d\n",
    "\n",
    "tensor_3d.shape\n",
    "\n",
    "#tensor_3d[plane,row,col]\n",
    "print tensor_3d[0,0,0]\n",
    "print tensor_3d[0,0,1]\n",
    "print tensor_3d[0,1,0]\n",
    "print tensor_3d[0,1,1]\n"
   ]
  },
  {
   "cell_type": "markdown",
   "metadata": {},
   "source": [
    "# Graph\n",
    "\n",
    "###### You can chick this: http://mirlab.org/jang/books/matlabProgramming4beginner/19-4_imageReadAndWrite.asp?title=19-4%20%BCv%B9%B3%C0%C9%AE%D7%AA%BA%C5%AA%A8%FA%BBP%BCg%A4J\n"
   ]
  },
  {
   "cell_type": "code",
   "execution_count": 84,
   "metadata": {
    "collapsed": false
   },
   "outputs": [
    {
     "ename": "AttributeError",
     "evalue": "__exit__",
     "output_type": "error",
     "traceback": [
      "\u001b[0;31m---------------------------------------------------------------------------\u001b[0m",
      "\u001b[0;31mAttributeError\u001b[0m                            Traceback (most recent call last)",
      "\u001b[0;32m<ipython-input-84-24d765c93714>\u001b[0m in \u001b[0;36m<module>\u001b[0;34m()\u001b[0m\n\u001b[1;32m      1\u001b[0m \u001b[0;32mimport\u001b[0m \u001b[0mmatplotlib\u001b[0m\u001b[0;34m.\u001b[0m\u001b[0mimage\u001b[0m \u001b[0;32mas\u001b[0m \u001b[0mmp_image\u001b[0m\u001b[0;34m\u001b[0m\u001b[0m\n\u001b[1;32m      2\u001b[0m \u001b[0mfilename\u001b[0m \u001b[0;34m=\u001b[0m \u001b[0;34m\"PacktLogo.jpg\"\u001b[0m\u001b[0;34m\u001b[0m\u001b[0m\n\u001b[0;32m----> 3\u001b[0;31m \u001b[0minput_image\u001b[0m \u001b[0;34m=\u001b[0m \u001b[0mmp_image\u001b[0m\u001b[0;34m.\u001b[0m\u001b[0mimread\u001b[0m\u001b[0;34m(\u001b[0m\u001b[0mfilename\u001b[0m\u001b[0;34m)\u001b[0m\u001b[0;34m\u001b[0m\u001b[0m\n\u001b[0m\u001b[1;32m      4\u001b[0m \u001b[0;34m\u001b[0m\u001b[0m\n\u001b[1;32m      5\u001b[0m \u001b[0;32mprint\u001b[0m \u001b[0;34m\"input dim = {}\"\u001b[0m\u001b[0;34m.\u001b[0m\u001b[0mformat\u001b[0m\u001b[0;34m(\u001b[0m\u001b[0minput_image\u001b[0m\u001b[0;34m.\u001b[0m\u001b[0mndim\u001b[0m\u001b[0;34m)\u001b[0m\u001b[0;34m\u001b[0m\u001b[0m\n",
      "\u001b[0;32m/usr/local/lib/python2.7/dist-packages/matplotlib/image.pyc\u001b[0m in \u001b[0;36mimread\u001b[0;34m(fname, format)\u001b[0m\n\u001b[1;32m   1225\u001b[0m \u001b[0;34m\u001b[0m\u001b[0m\n\u001b[1;32m   1226\u001b[0m     \u001b[0;32mif\u001b[0m \u001b[0mext\u001b[0m \u001b[0;32mnot\u001b[0m \u001b[0;32min\u001b[0m \u001b[0mhandlers\u001b[0m\u001b[0;34m:\u001b[0m\u001b[0;34m\u001b[0m\u001b[0m\n\u001b[0;32m-> 1227\u001b[0;31m         \u001b[0mim\u001b[0m \u001b[0;34m=\u001b[0m \u001b[0mpilread\u001b[0m\u001b[0;34m(\u001b[0m\u001b[0mfname\u001b[0m\u001b[0;34m)\u001b[0m\u001b[0;34m\u001b[0m\u001b[0m\n\u001b[0m\u001b[1;32m   1228\u001b[0m         \u001b[0;32mif\u001b[0m \u001b[0mim\u001b[0m \u001b[0;32mis\u001b[0m \u001b[0mNone\u001b[0m\u001b[0;34m:\u001b[0m\u001b[0;34m\u001b[0m\u001b[0m\n\u001b[1;32m   1229\u001b[0m             raise ValueError('Only know how to handle extensions: %s; '\n",
      "\u001b[0;32m/usr/local/lib/python2.7/dist-packages/matplotlib/image.pyc\u001b[0m in \u001b[0;36mpilread\u001b[0;34m(fname)\u001b[0m\n\u001b[1;32m   1203\u001b[0m         \u001b[0;32mexcept\u001b[0m \u001b[0mImportError\u001b[0m\u001b[0;34m:\u001b[0m\u001b[0;34m\u001b[0m\u001b[0m\n\u001b[1;32m   1204\u001b[0m             \u001b[0;32mreturn\u001b[0m \u001b[0mNone\u001b[0m\u001b[0;34m\u001b[0m\u001b[0m\n\u001b[0;32m-> 1205\u001b[0;31m         \u001b[0;32mwith\u001b[0m \u001b[0mImage\u001b[0m\u001b[0;34m.\u001b[0m\u001b[0mopen\u001b[0m\u001b[0;34m(\u001b[0m\u001b[0mfname\u001b[0m\u001b[0;34m)\u001b[0m \u001b[0;32mas\u001b[0m \u001b[0mimage\u001b[0m\u001b[0;34m:\u001b[0m\u001b[0;34m\u001b[0m\u001b[0m\n\u001b[0m\u001b[1;32m   1206\u001b[0m             \u001b[0;32mreturn\u001b[0m \u001b[0mpil_to_array\u001b[0m\u001b[0;34m(\u001b[0m\u001b[0mimage\u001b[0m\u001b[0;34m)\u001b[0m\u001b[0;34m\u001b[0m\u001b[0m\n\u001b[1;32m   1207\u001b[0m \u001b[0;34m\u001b[0m\u001b[0m\n",
      "\u001b[0;32m/usr/lib/python2.7/dist-packages/PIL/Image.pyc\u001b[0m in \u001b[0;36m__getattr__\u001b[0;34m(self, name)\u001b[0m\n\u001b[1;32m    526\u001b[0m             \u001b[0mnew\u001b[0m\u001b[0;34m[\u001b[0m\u001b[0;34m'data'\u001b[0m\u001b[0;34m]\u001b[0m \u001b[0;34m=\u001b[0m \u001b[0mself\u001b[0m\u001b[0;34m.\u001b[0m\u001b[0mtobytes\u001b[0m\u001b[0;34m(\u001b[0m\u001b[0;34m)\u001b[0m\u001b[0;34m\u001b[0m\u001b[0m\n\u001b[1;32m    527\u001b[0m             \u001b[0;32mreturn\u001b[0m \u001b[0mnew\u001b[0m\u001b[0;34m\u001b[0m\u001b[0m\n\u001b[0;32m--> 528\u001b[0;31m         \u001b[0;32mraise\u001b[0m \u001b[0mAttributeError\u001b[0m\u001b[0;34m(\u001b[0m\u001b[0mname\u001b[0m\u001b[0;34m)\u001b[0m\u001b[0;34m\u001b[0m\u001b[0m\n\u001b[0m\u001b[1;32m    529\u001b[0m \u001b[0;34m\u001b[0m\u001b[0m\n\u001b[1;32m    530\u001b[0m     \u001b[0;32mdef\u001b[0m \u001b[0mtobytes\u001b[0m\u001b[0;34m(\u001b[0m\u001b[0mself\u001b[0m\u001b[0;34m,\u001b[0m \u001b[0mencoder_name\u001b[0m\u001b[0;34m=\u001b[0m\u001b[0;34m\"raw\"\u001b[0m\u001b[0;34m,\u001b[0m \u001b[0;34m*\u001b[0m\u001b[0margs\u001b[0m\u001b[0;34m)\u001b[0m\u001b[0;34m:\u001b[0m\u001b[0;34m\u001b[0m\u001b[0m\n",
      "\u001b[0;31mAttributeError\u001b[0m: __exit__"
     ]
    }
   ],
   "source": [
    "import matplotlib.image as mp_image\n",
    "filename = \"PacktLogo.jpg\"\n",
    "input_image = mp_image.imread(filename)\n",
    "\n",
    "print \"input dim = {}\".format(input_image.ndim)\n",
    "print \"input shape = {}\".format(input_image.shape)\n"
   ]
  },
  {
   "cell_type": "markdown",
   "metadata": {},
   "source": [
    "# fractals"
   ]
  },
  {
   "cell_type": "code",
   "execution_count": 53,
   "metadata": {
    "collapsed": false
   },
   "outputs": [
    {
     "name": "stdout",
     "output_type": "stream",
     "text": [
      "(5+4j)\n",
      "(5+4j)\n"
     ]
    }
   ],
   "source": [
    "x = 5. + 4j\n",
    "print x\n",
    "\n",
    "x = complex(5,4)\n",
    "print x"
   ]
  },
  {
   "cell_type": "code",
   "execution_count": 54,
   "metadata": {
    "collapsed": false
   },
   "outputs": [
    {
     "data": {
      "text/plain": [
       "5.0"
      ]
     },
     "execution_count": 54,
     "metadata": {},
     "output_type": "execute_result"
    }
   ],
   "source": [
    "x.real ## real number"
   ]
  },
  {
   "cell_type": "code",
   "execution_count": 55,
   "metadata": {
    "collapsed": false
   },
   "outputs": [
    {
     "data": {
      "text/plain": [
       "4.0"
      ]
     },
     "execution_count": 55,
     "metadata": {},
     "output_type": "execute_result"
    }
   ],
   "source": [
    "x.imag ## imaginary number"
   ]
  },
  {
   "cell_type": "markdown",
   "metadata": {},
   "source": [
    "### Mandelbrot set\n",
    "###### Z(n+1) = Z(n)^2 + c ,where Z(0) = 0\n",
    "\n",
    "### Step\n",
    "###### Step1: init = 0 >> Z(0) = 0\n",
    "###### Step2: The horizontal axis means real part ; The vertical axis means imaginary part \n",
    "###### Step3: Repeated iterative recursive function : Z(n+1) = Z(n)^2 + c"
   ]
  },
  {
   "cell_type": "code",
   "execution_count": 66,
   "metadata": {
    "collapsed": false
   },
   "outputs": [
    {
     "data": {
      "image/png": "[encoded data removed]",
      "text/plain": [
       "<matplotlib.figure.Figure at 0x7f14c9352910>"
      ]
     },
     "metadata": {},
     "output_type": "display_data"
    }
   ],
   "source": [
    "## Prepare dataSet\n",
    "import tensorflow as tf\n",
    "import numpy as np\n",
    "import matplotlib.pyplot as plt\n",
    "\n",
    "Y,X = np.mgrid[-1.3:1.3:0.005,-2:1:0.005]\n",
    "Z = X + 1j * Y\n",
    "C = tf.constant(Z.astype(np.complex64))\n",
    "\n",
    "zs = tf.Variable(C)\n",
    "ns = tf.Variable(tf.zeros_like(C,tf.float32))\n",
    "\n",
    "## startup\n",
    "sess = tf.InteractiveSession()\n",
    "tf.global_variables_initializer().run()\n",
    "\n",
    "zs_=zs*zs+C\n",
    "not_diverged = tf.complex_abs(zs_)<4\n",
    "step = tf.group(zs.assign(zs_),ns.assign_add(tf.cast(not_diverged,tf.float32)))\n",
    "for i in range(200):\n",
    "    step.run()\n",
    "    \n",
    "plt.imshow(ns.eval())\n",
    "plt.show()\n"
   ]
  },
  {
   "cell_type": "markdown",
   "metadata": {},
   "source": [
    "### Julia Set\n",
    "\n",
    "###### Z(n+1) = Z(n)^2 - c ,where Z(0) = 0"
   ]
  },
  {
   "cell_type": "code",
   "execution_count": 65,
   "metadata": {
    "collapsed": false
   },
   "outputs": [
    {
     "data": {
      "image/png": "[encoded data removed]",
      "text/plain": [
       "<matplotlib.figure.Figure at 0x7f14c953cb10>"
      ]
     },
     "metadata": {},
     "output_type": "display_data"
    }
   ],
   "source": [
    "## Prepare dataSet\n",
    "import tensorflow as tf\n",
    "import numpy as np\n",
    "import matplotlib.pyplot as plt\n",
    "\n",
    "Y,X = np.mgrid[-2:2:0.005,-2:2:0.005]\n",
    "Z = X + 1j * Y\n",
    "\n",
    "## redefine Z\n",
    "Z = tf.constant(Z.astype(\"complex64\"))\n",
    "\n",
    "zs = tf.Variable(Z)\n",
    "ns = tf.Variable(tf.zeros_like(Z,tf.float32))\n",
    "\n",
    "## startup\n",
    "sess = tf.InteractiveSession()\n",
    "tf.global_variables_initializer().run()\n",
    "C = complex(0.0,0.75)\n",
    "zs_=zs*zs-C\n",
    "not_diverged = tf.complex_abs(zs_) < 4\n",
    "step = tf.group(zs.assign(zs_),ns.assign_add(tf.cast(not_diverged,tf.float32)))\n",
    "for i in range(200):\n",
    "    step.run()\n",
    "    \n",
    "plt.imshow(ns.eval())\n",
    "plt.show()\n"
   ]
  },
  {
   "cell_type": "code",
   "execution_count": 67,
   "metadata": {
    "collapsed": false
   },
   "outputs": [
    {
     "data": {
      "text/plain": [
       "array([[[-2.   , -2.   , -2.   , ..., -2.   , -2.   , -2.   ],\n",
       "        [-1.995, -1.995, -1.995, ..., -1.995, -1.995, -1.995],\n",
       "        [-1.99 , -1.99 , -1.99 , ..., -1.99 , -1.99 , -1.99 ],\n",
       "        ..., \n",
       "        [ 1.985,  1.985,  1.985, ...,  1.985,  1.985,  1.985],\n",
       "        [ 1.99 ,  1.99 ,  1.99 , ...,  1.99 ,  1.99 ,  1.99 ],\n",
       "        [ 1.995,  1.995,  1.995, ...,  1.995,  1.995,  1.995]],\n",
       "\n",
       "       [[-2.   , -1.995, -1.99 , ...,  1.985,  1.99 ,  1.995],\n",
       "        [-2.   , -1.995, -1.99 , ...,  1.985,  1.99 ,  1.995],\n",
       "        [-2.   , -1.995, -1.99 , ...,  1.985,  1.99 ,  1.995],\n",
       "        ..., \n",
       "        [-2.   , -1.995, -1.99 , ...,  1.985,  1.99 ,  1.995],\n",
       "        [-2.   , -1.995, -1.99 , ...,  1.985,  1.99 ,  1.995],\n",
       "        [-2.   , -1.995, -1.99 , ...,  1.985,  1.99 ,  1.995]]])"
      ]
     },
     "execution_count": 67,
     "metadata": {},
     "output_type": "execute_result"
    }
   ],
   "source": [
    "np.mgrid[-2:2:0.005,-2:2:0.005]"
   ]
  },
  {
   "cell_type": "code",
   "execution_count": 83,
   "metadata": {
    "collapsed": false
   },
   "outputs": [
    {
     "name": "stdout",
     "output_type": "stream",
     "text": [
      "[[-2.000-2.j    -1.995-2.j    -1.990-2.j    ...,  1.985-2.j     1.990-2.j\n",
      "   1.995-2.j   ]\n",
      " [-2.000-1.995j -1.995-1.995j -1.990-1.995j ...,  1.985-1.995j\n",
      "   1.990-1.995j  1.995-1.995j]\n",
      " [-2.000-1.99j  -1.995-1.99j  -1.990-1.99j  ...,  1.985-1.99j   1.990-1.99j\n",
      "   1.995-1.99j ]\n",
      " ..., \n",
      " [-2.000+1.985j -1.995+1.985j -1.990+1.985j ...,  1.985+1.985j\n",
      "   1.990+1.985j  1.995+1.985j]\n",
      " [-2.000+1.99j  -1.995+1.99j  -1.990+1.99j  ...,  1.985+1.99j   1.990+1.99j\n",
      "   1.995+1.99j ]\n",
      " [-2.000+1.995j -1.995+1.995j -1.990+1.995j ...,  1.985+1.995j\n",
      "   1.990+1.995j  1.995+1.995j]]\n",
      "<type 'numpy.ndarray'>\n",
      "[[-2.00000000-2.j         -1.99500000-2.j         -1.99000001-2.j         ...,\n",
      "   1.98500001-2.j          1.99000001-2.j          1.99500000-2.j        ]\n",
      " [-2.00000000-1.995j      -1.99500000-1.995j      -1.99000001-1.995j      ...,\n",
      "   1.98500001-1.995j       1.99000001-1.995j       1.99500000-1.995j     ]\n",
      " [-2.00000000-1.99000001j -1.99500000-1.99000001j -1.99000001-1.99000001j\n",
      "  ...,  1.98500001-1.99000001j  1.99000001-1.99000001j\n",
      "   1.99500000-1.99000001j]\n",
      " ..., \n",
      " [-2.00000000+1.98500001j -1.99500000+1.98500001j -1.99000001+1.98500001j\n",
      "  ...,  1.98500001+1.98500001j  1.99000001+1.98500001j\n",
      "   1.99500000+1.98500001j]\n",
      " [-2.00000000+1.99000001j -1.99500000+1.99000001j -1.99000001+1.99000001j\n",
      "  ...,  1.98500001+1.99000001j  1.99000001+1.99000001j\n",
      "   1.99500000+1.99000001j]\n",
      " [-2.00000000+1.995j      -1.99500000+1.995j      -1.99000001+1.995j      ...,\n",
      "   1.98500001+1.995j       1.99000001+1.995j       1.99500000+1.995j     ]]\n",
      "<type 'numpy.ndarray'>\n"
     ]
    }
   ],
   "source": [
    "Y,X = np.mgrid[-2:2:0.005,-2:2:0.005]\n",
    "Z = X + 1j * Y\n",
    "\n",
    "## redefine Z\n",
    "print Z\n",
    "print type(Z)\n",
    "print Z.astype(\"complex64\")\n",
    "print type(Z)"
   ]
  },
  {
   "cell_type": "code",
   "execution_count": null,
   "metadata": {
    "collapsed": true
   },
   "outputs": [],
   "source": []
  },
  {
   "cell_type": "code",
   "execution_count": null,
   "metadata": {
    "collapsed": true
   },
   "outputs": [],
   "source": []
  },
  {
   "cell_type": "code",
   "execution_count": null,
   "metadata": {
    "collapsed": true
   },
   "outputs": [],
   "source": []
  },
  {
   "cell_type": "code",
   "execution_count": null,
   "metadata": {
    "collapsed": true
   },
   "outputs": [],
   "source": []
  },
  {
   "cell_type": "code",
   "execution_count": null,
   "metadata": {
    "collapsed": true
   },
   "outputs": [],
   "source": []
  },
  {
   "cell_type": "code",
   "execution_count": null,
   "metadata": {
    "collapsed": true
   },
   "outputs": [],
   "source": []
  },
  {
   "cell_type": "code",
   "execution_count": null,
   "metadata": {
    "collapsed": true
   },
   "outputs": [],
   "source": []
  }
 ],
 "metadata": {
  "kernelspec": {
   "display_name": "Python 2",
   "language": "python",
   "name": "python2"
  },
  "language_info": {
   "codemirror_mode": {
    "name": "ipython",
    "version": 2
   },
   "file_extension": ".py",
   "mimetype": "text/x-python",
   "name": "python",
   "nbconvert_exporter": "python",
   "pygments_lexer": "ipython2",
   "version": "2.7.6"
  }
 },
 "nbformat": 4,
 "nbformat_minor": 2
}
